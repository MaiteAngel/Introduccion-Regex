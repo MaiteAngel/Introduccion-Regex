{
  "nbformat": 4,
  "nbformat_minor": 0,
  "metadata": {
    "kernelspec": {
      "display_name": "Python 3",
      "language": "python",
      "name": "python3"
    },
    "language_info": {
      "codemirror_mode": {
        "name": "ipython",
        "version": 3
      },
      "file_extension": ".py",
      "mimetype": "text/x-python",
      "name": "python",
      "nbconvert_exporter": "python",
      "pygments_lexer": "ipython3",
      "version": "3.7.4"
    },
    "colab": {
      "name": "limpieza_direcciones.ipynb",
      "provenance": [],
      "collapsed_sections": []
    }
  },
  "cells": [
    {
      "cell_type": "markdown",
      "metadata": {
        "id": "5PKXRLb31eAg"
      },
      "source": [
        "# Importamos librerias\n",
        "\n",
        "Las librerias en python son lo que traen a nuestro ambiente funciones ya programadas listas para usarlas."
      ]
    },
    {
      "cell_type": "code",
      "metadata": {
        "id": "JX6Fktbl__g2"
      },
      "source": [
        "import pandas as pd\n",
        "import re"
      ],
      "execution_count": 1,
      "outputs": []
    },
    {
      "cell_type": "markdown",
      "metadata": {
        "id": "qWjKBD_t__g3"
      },
      "source": [
        "# Cargar datos\n",
        "\n",
        "\n",
        "\n",
        "1.   Primero vamos a **importar nuestros datos** al espacio de trabajo: desplazamos el archivo hacia el cuadro de la izquierda.\n",
        "2.   Vamos a usar la libreria pandas de python: con **pd.read_csv** levantamos el csv deseado.\n",
        "3. Seleccionamos nuestros campos de interes\n",
        "\n"
      ]
    },
    {
      "cell_type": "code",
      "metadata": {
        "id": "nKLTcKKs__g4"
      },
      "source": [
        "data=pd.read_csv(\"data.csv\",encoding=\"UTF-8\")"
      ],
      "execution_count": 2,
      "outputs": []
    },
    {
      "cell_type": "code",
      "metadata": {
        "colab": {
          "base_uri": "https://localhost:8080/"
        },
        "id": "cAI7PpVcGuSJ",
        "outputId": "187a6010-d8ef-483c-d78f-00e857398ae5"
      },
      "source": [
        "tamaño=data.shape\n",
        "print(f\"Tamaño data {tamaño}\")"
      ],
      "execution_count": 3,
      "outputs": [
        {
          "output_type": "stream",
          "text": [
            "Tamaño data (13, 2)\n"
          ],
          "name": "stdout"
        }
      ]
    },
    {
      "cell_type": "code",
      "metadata": {
        "id": "PmX3ybfxBg9B",
        "colab": {
          "base_uri": "https://localhost:8080/"
        },
        "outputId": "e440fe11-4378-4180-c40c-33c07a04e1ad"
      },
      "source": [
        "columnas=data.columns\n",
        "columnas"
      ],
      "execution_count": 4,
      "outputs": [
        {
          "output_type": "execute_result",
          "data": {
            "text/plain": [
              "Index(['ID', 'Domicilio'], dtype='object')"
            ]
          },
          "metadata": {},
          "execution_count": 4
        }
      ]
    },
    {
      "cell_type": "markdown",
      "metadata": {
        "id": "_6axBNhMH3gQ"
      },
      "source": [
        "#### Campos de interes"
      ]
    },
    {
      "cell_type": "code",
      "metadata": {
        "id": "J47HJIxlD5dP",
        "colab": {
          "base_uri": "https://localhost:8080/"
        },
        "outputId": "dc1fdf31-fca8-4cf1-d5fc-2fe488a796fd"
      },
      "source": [
        "data[\"Domicilio\"]"
      ],
      "execution_count": 5,
      "outputs": [
        {
          "output_type": "execute_result",
          "data": {
            "text/plain": [
              "0     Luis Viale 2465 Planta baja departamento 8\n",
              "1               Luis Viale         2465 Pb Dto 3\n",
              "2                                Galiciiiiia 546\n",
              "3                      Aguero                 77\n",
              "4                           Luis viale 1900 2 26\n",
              "5           Avenida san martin 2172 1 Piso Dto 7\n",
              "6                      Aristobulo del valle 2458\n",
              "7                                    VERAA  3016\n",
              "8                   Almt. J. Francisco Segui 232\n",
              "9                             Alvatez Jonte 3594\n",
              "10                             Pacheco 286 9No A\n",
              "11         Gral paz 394, C1202 Abb, Buenos Aires\n",
              "12                                          2300\n",
              "Name: Domicilio, dtype: object"
            ]
          },
          "metadata": {},
          "execution_count": 5
        }
      ]
    },
    {
      "cell_type": "markdown",
      "metadata": {
        "id": "LpXHSju0AsP6"
      },
      "source": [
        "# Limpieza estandar de direcciones\n",
        "\n",
        "Acá se pueden elegir las tareas de limpieza que se realizarán usaremos la libreria **re** de **regex** en donde usaremos expresiones regulares para indicar que queremos limpiar.\n",
        "\n",
        "* [Acá](https://support.google.com/a/answer/1371417?hl=es) hay un lindo tutorial de Google.\n",
        "\n",
        "* [Acá](https://www3.ntu.edu.sg/home/ehchua/programming/howto/Regexe.html) hay un buen machete para consultar.\n",
        "\n",
        "* Googlear que queremos hacer junto al indicador **regex**"
      ]
    },
    {
      "cell_type": "markdown",
      "metadata": {
        "id": "hvP31ajfH--9"
      },
      "source": [
        "#### Ejemplo regex"
      ]
    },
    {
      "cell_type": "code",
      "metadata": {
        "colab": {
          "base_uri": "https://localhost:8080/",
          "height": 35
        },
        "id": "NyBV4T54IFYW",
        "outputId": "f01f1fb0-c45e-4ffe-d12e-8ca91708e556"
      },
      "source": [
        "x=re.sub(\"hola\", \"chau\", \"hola, vivo en capital federal\")\n",
        "x"
      ],
      "execution_count": 6,
      "outputs": [
        {
          "output_type": "execute_result",
          "data": {
            "application/vnd.google.colaboratory.intrinsic+json": {
              "type": "string"
            },
            "text/plain": [
              "'chau, vivo en capital federal'"
            ]
          },
          "metadata": {},
          "execution_count": 6
        }
      ]
    },
    {
      "cell_type": "markdown",
      "metadata": {
        "id": "bHWUAw9-6Ztc"
      },
      "source": [
        "#### Ejemplo regex 2 "
      ]
    },
    {
      "cell_type": "code",
      "metadata": {
        "colab": {
          "base_uri": "https://localhost:8080/",
          "height": 35
        },
        "id": "oMEe4MH0JO0y",
        "outputId": "4919cbcf-ef63-44f2-85f9-b91a40eb6345"
      },
      "source": [
        "x=re.sub(\"^(\\\\D*\\\\d+).*\", \"\\\\1\", \"Luis Viale 246 Planta baja departamento 8\")\n",
        "#x=re.sub(\"baja\",\"\",x)\n",
        "#x=re.sub(\"2465\",\"\",x)\n",
        "x"
      ],
      "execution_count": 7,
      "outputs": [
        {
          "output_type": "execute_result",
          "data": {
            "application/vnd.google.colaboratory.intrinsic+json": {
              "type": "string"
            },
            "text/plain": [
              "'Luis Viale 246'"
            ]
          },
          "metadata": {},
          "execution_count": 7
        }
      ]
    },
    {
      "cell_type": "markdown",
      "metadata": {
        "id": "F3vthNxGICY-"
      },
      "source": [
        "#### Ahora si, limpiamos"
      ]
    },
    {
      "cell_type": "code",
      "metadata": {
        "id": "FhgDJ0CdAy_k"
      },
      "source": [
        "def calles_limpias(a):\n",
        "    replacements = [        \n",
        "        (\"[^\\w\\s]\", \"\"),#  Saco todo lo que no sean letras o numeros (puntuación).\n",
        "        (r\"\\s+\", \" \"),#  Si hay muchos espacios, me quedo con uno solo.\n",
        "        (r\"^[0-9]+\", ''),#  Saco numeros del inicio (^) de la direccion.\n",
        "        (r'([A-Z])\\1+', r'\\1'), #elimino letras duplicadas\n",
        "        (\"^(\\\\D*\\\\d+).*\", \"\\\\1\"),#  Me quedo con el primer grupo que sea un conjunto de letras seguidos por numeros\n",
        "    ]\n",
        "\n",
        "    def clean(e):\n",
        "        e = e.upper()\n",
        "        for ptr, rpl in replacements:\n",
        "            e = e.strip()#  Saco espacios del inicio y fin de la direccion\n",
        "            e = re.sub(ptr, rpl, e)\n",
        "        return e\n",
        "\n",
        "    return [clean(element.upper()) for element in a]#  Convierto todo a mayuscula antes de limpiar"
      ],
      "execution_count": 8,
      "outputs": []
    },
    {
      "cell_type": "markdown",
      "metadata": {
        "id": "bC5yrUucxBsY"
      },
      "source": [
        "### Probamos a ver como anda"
      ]
    },
    {
      "cell_type": "markdown",
      "metadata": {
        "id": "xv2j07pyKsOW"
      },
      "source": [
        ""
      ]
    },
    {
      "cell_type": "code",
      "metadata": {
        "colab": {
          "base_uri": "https://localhost:8080/"
        },
        "id": "3TE2LOKHw2MZ",
        "outputId": "02a6a5e6-38bc-401d-d575-3243d99dd25f"
      },
      "source": [
        "calles_limpias([\"Luis Viale 246 Planta baja Dto 3\"])"
      ],
      "execution_count": 9,
      "outputs": [
        {
          "output_type": "execute_result",
          "data": {
            "text/plain": [
              "['LUIS VIALE 246']"
            ]
          },
          "metadata": {},
          "execution_count": 9
        }
      ]
    },
    {
      "cell_type": "markdown",
      "metadata": {
        "id": "TwKC849CxHlA"
      },
      "source": [
        "### Limpiamos los datos"
      ]
    },
    {
      "cell_type": "code",
      "metadata": {
        "id": "lNMfvFbmAsbB",
        "colab": {
          "base_uri": "https://localhost:8080/",
          "height": 452
        },
        "outputId": "ef985b31-336b-442e-9586-7079e0d5a79a"
      },
      "source": [
        "data.Domicilio=data.Domicilio.astype({'Domicilio': str}).reset_index(drop=True)\n",
        "data[\"direccion_limpia\"]=calles_limpias(data.Domicilio) # Aplico limpieza\n",
        "data"
      ],
      "execution_count": 10,
      "outputs": [
        {
          "output_type": "execute_result",
          "data": {
            "text/html": [
              "<div>\n",
              "<style scoped>\n",
              "    .dataframe tbody tr th:only-of-type {\n",
              "        vertical-align: middle;\n",
              "    }\n",
              "\n",
              "    .dataframe tbody tr th {\n",
              "        vertical-align: top;\n",
              "    }\n",
              "\n",
              "    .dataframe thead th {\n",
              "        text-align: right;\n",
              "    }\n",
              "</style>\n",
              "<table border=\"1\" class=\"dataframe\">\n",
              "  <thead>\n",
              "    <tr style=\"text-align: right;\">\n",
              "      <th></th>\n",
              "      <th>ID</th>\n",
              "      <th>Domicilio</th>\n",
              "      <th>direccion_limpia</th>\n",
              "    </tr>\n",
              "  </thead>\n",
              "  <tbody>\n",
              "    <tr>\n",
              "      <th>0</th>\n",
              "      <td>1</td>\n",
              "      <td>Luis Viale 2465 Planta baja departamento 8</td>\n",
              "      <td>LUIS VIALE 2465</td>\n",
              "    </tr>\n",
              "    <tr>\n",
              "      <th>1</th>\n",
              "      <td>2</td>\n",
              "      <td>Luis Viale         2465 Pb Dto 3</td>\n",
              "      <td>LUIS VIALE 2465</td>\n",
              "    </tr>\n",
              "    <tr>\n",
              "      <th>2</th>\n",
              "      <td>3</td>\n",
              "      <td>Galiciiiiia 546</td>\n",
              "      <td>GALICIA 546</td>\n",
              "    </tr>\n",
              "    <tr>\n",
              "      <th>3</th>\n",
              "      <td>4</td>\n",
              "      <td>Aguero                 77</td>\n",
              "      <td>AGUERO 77</td>\n",
              "    </tr>\n",
              "    <tr>\n",
              "      <th>4</th>\n",
              "      <td>5</td>\n",
              "      <td>Luis viale 1900 2 26</td>\n",
              "      <td>LUIS VIALE 1900</td>\n",
              "    </tr>\n",
              "    <tr>\n",
              "      <th>5</th>\n",
              "      <td>6</td>\n",
              "      <td>Avenida san martin 2172 1 Piso Dto 7</td>\n",
              "      <td>AVENIDA SAN MARTIN 2172</td>\n",
              "    </tr>\n",
              "    <tr>\n",
              "      <th>6</th>\n",
              "      <td>7</td>\n",
              "      <td>Aristobulo del valle 2458</td>\n",
              "      <td>ARISTOBULO DEL VALE 2458</td>\n",
              "    </tr>\n",
              "    <tr>\n",
              "      <th>7</th>\n",
              "      <td>8</td>\n",
              "      <td>VERAA  3016</td>\n",
              "      <td>VERA 3016</td>\n",
              "    </tr>\n",
              "    <tr>\n",
              "      <th>8</th>\n",
              "      <td>9</td>\n",
              "      <td>Almt. J. Francisco Segui 232</td>\n",
              "      <td>ALMT J FRANCISCO SEGUI 232</td>\n",
              "    </tr>\n",
              "    <tr>\n",
              "      <th>9</th>\n",
              "      <td>10</td>\n",
              "      <td>Alvatez Jonte 3594</td>\n",
              "      <td>ALVATEZ JONTE 3594</td>\n",
              "    </tr>\n",
              "    <tr>\n",
              "      <th>10</th>\n",
              "      <td>11</td>\n",
              "      <td>Pacheco 286 9No A</td>\n",
              "      <td>PACHECO 286</td>\n",
              "    </tr>\n",
              "    <tr>\n",
              "      <th>11</th>\n",
              "      <td>12</td>\n",
              "      <td>Gral paz 394, C1202 Abb, Buenos Aires</td>\n",
              "      <td>GRAL PAZ 394</td>\n",
              "    </tr>\n",
              "    <tr>\n",
              "      <th>12</th>\n",
              "      <td>13</td>\n",
              "      <td>2300</td>\n",
              "      <td></td>\n",
              "    </tr>\n",
              "  </tbody>\n",
              "</table>\n",
              "</div>"
            ],
            "text/plain": [
              "    ID                                   Domicilio            direccion_limpia\n",
              "0    1  Luis Viale 2465 Planta baja departamento 8             LUIS VIALE 2465\n",
              "1    2            Luis Viale         2465 Pb Dto 3             LUIS VIALE 2465\n",
              "2    3                             Galiciiiiia 546                 GALICIA 546\n",
              "3    4                   Aguero                 77                   AGUERO 77\n",
              "4    5                        Luis viale 1900 2 26             LUIS VIALE 1900\n",
              "5    6        Avenida san martin 2172 1 Piso Dto 7     AVENIDA SAN MARTIN 2172\n",
              "6    7                   Aristobulo del valle 2458    ARISTOBULO DEL VALE 2458\n",
              "7    8                                 VERAA  3016                   VERA 3016\n",
              "8    9                Almt. J. Francisco Segui 232  ALMT J FRANCISCO SEGUI 232\n",
              "9   10                          Alvatez Jonte 3594          ALVATEZ JONTE 3594\n",
              "10  11                           Pacheco 286 9No A                 PACHECO 286\n",
              "11  12       Gral paz 394, C1202 Abb, Buenos Aires                GRAL PAZ 394\n",
              "12  13                                        2300                            "
            ]
          },
          "metadata": {},
          "execution_count": 10
        }
      ]
    },
    {
      "cell_type": "code",
      "metadata": {
        "id": "mzvJ4dZcG_aP"
      },
      "source": [
        "# Remuevo filas en las que quedaron solo numeros\n",
        "data_limpia=data[[False if str(x).isdigit() else True for x in data.direccion_limpia]].reset_index(drop=True)\n",
        "# Datos que no pudieron limpiarse\n",
        "data_limpia=data_limpia[data_limpia.direccion_limpia!=\"\"].reset_index(drop=True)"
      ],
      "execution_count": 11,
      "outputs": []
    },
    {
      "cell_type": "code",
      "metadata": {
        "colab": {
          "base_uri": "https://localhost:8080/"
        },
        "id": "hEx7mqV_qxel",
        "outputId": "fe9885d0-9a45-4baa-e9f5-7e57e08f5fa8"
      },
      "source": [
        "# Proporcion de datos que pudieron limpiarse\n",
        "len(data_limpia.direccion_limpia)/len(data.direccion_limpia)"
      ],
      "execution_count": 12,
      "outputs": [
        {
          "output_type": "execute_result",
          "data": {
            "text/plain": [
              "0.9230769230769231"
            ]
          },
          "metadata": {},
          "execution_count": 12
        }
      ]
    },
    {
      "cell_type": "markdown",
      "metadata": {
        "id": "B6WO3v1_fav9"
      },
      "source": [
        "## Extra: remover acentos y cambiar ñ por n"
      ]
    },
    {
      "cell_type": "code",
      "metadata": {
        "id": "WICsDjxwffH0"
      },
      "source": [
        "#data_limpia.direccion_limpia=[x.upper().translate(str.maketrans('ÁÉÍÓÚÑ','AEIOUN')).strip() for x in data_limpia.direccion_limpia]"
      ],
      "execution_count": 13,
      "outputs": []
    },
    {
      "cell_type": "markdown",
      "metadata": {
        "id": "mLN22spCPPX1"
      },
      "source": [
        "## Guardamos data sucia"
      ]
    },
    {
      "cell_type": "code",
      "metadata": {
        "id": "_DpTXfYnMQ-u"
      },
      "source": [
        "data_sucia=pd.concat([data[[True if str(x).isdigit() else False for x in data.direccion_limpia]],\n",
        "                      data[data.direccion_limpia==\"\"]])"
      ],
      "execution_count": 14,
      "outputs": []
    },
    {
      "cell_type": "code",
      "metadata": {
        "id": "F8wDq2EDOFBH"
      },
      "source": [
        "data_sucia.to_csv(\"data_sucia.csv\")"
      ],
      "execution_count": 15,
      "outputs": []
    },
    {
      "cell_type": "markdown",
      "metadata": {
        "id": "D0E9JMth__g5"
      },
      "source": [
        "## Extra: Limpiamos alturas que no sean numeros"
      ]
    },
    {
      "cell_type": "code",
      "metadata": {
        "id": "7JTI_Jgq__g5"
      },
      "source": [
        "#Removemos alturas erroneas\n",
        "#data=data[data['altura'].apply(lambda x: str(x).isdigit())].astype({'altura': 'int32'}).reset_index(drop=True)"
      ],
      "execution_count": 16,
      "outputs": []
    },
    {
      "cell_type": "markdown",
      "metadata": {
        "id": "P_DjsU_hCJ16"
      },
      "source": [
        "# Guardar data limpia"
      ]
    },
    {
      "cell_type": "code",
      "metadata": {
        "id": "c5Qb-qLXCKIC"
      },
      "source": [
        "data_limpia.to_csv(\"data_limpia.csv\")"
      ],
      "execution_count": 17,
      "outputs": []
    },
    {
      "cell_type": "code",
      "metadata": {
        "id": "qmwL-1z3CBNA"
      },
      "source": [
        ""
      ],
      "execution_count": 17,
      "outputs": []
    },
    {
      "cell_type": "code",
      "metadata": {
        "id": "1Jpvv7jDCBQO"
      },
      "source": [
        ""
      ],
      "execution_count": 17,
      "outputs": []
    }
  ]
}